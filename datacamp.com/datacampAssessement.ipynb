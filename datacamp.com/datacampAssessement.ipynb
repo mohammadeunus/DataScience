{
  "nbformat": 4,
  "nbformat_minor": 0,
  "metadata": {
    "colab": {
      "name": "datacampAssessement",
      "provenance": [],
      "toc_visible": true,
      "authorship_tag": "ABX9TyO/kp62tpUtUJr7wAu88yY4",
      "include_colab_link": true
    },
    "kernelspec": {
      "name": "python3",
      "display_name": "Python 3"
    }
  },
  "cells": [
    {
      "cell_type": "markdown",
      "metadata": {
        "id": "view-in-github",
        "colab_type": "text"
      },
      "source": [
        "<a href=\"https://colab.research.google.com/github/mohammadeunus/MyKaggleJourney/blob/main/datacampAssessement.ipynb\" target=\"_parent\"><img src=\"https://colab.research.google.com/assets/colab-badge.svg\" alt=\"Open In Colab\"/></a>"
      ]
    },
    {
      "cell_type": "code",
      "metadata": {
        "colab": {
          "base_uri": "https://localhost:8080/"
        },
        "id": "WUu5kVglGTkE",
        "outputId": "9496f7ce-6b07-4647-e081-9bae57123a0e"
      },
      "source": [
        "'''\n",
        "here True mean 1 and False mean 0\n",
        "''' \n",
        "_np.array([True, 1, 2]) + np.array([3, 4, False])  \n",
        "#and the following code are same \n",
        "#np.array([ 01 , 1, 2]) + np.array([3, 4,  00  ])  "
      ],
      "execution_count": null,
      "outputs": [
        {
          "output_type": "execute_result",
          "data": {
            "text/plain": [
              "array([4, 5, 2])"
            ]
          },
          "metadata": {},
          "execution_count": 8
        }
      ]
    },
    {
      "cell_type": "markdown",
      "metadata": {
        "id": "T1K1SWIsg-Bt"
      },
      "source": [
        "**Assessment ONE**"
      ]
    },
    {
      "cell_type": "code",
      "metadata": {
        "colab": {
          "base_uri": "https://localhost:8080/"
        },
        "id": "54ZcevVrg9l3",
        "outputId": "5322b9c1-161a-4258-c61b-55e690a17a38"
      },
      "source": [
        "x = [1, 4, 8, 7, 12,13]\n",
        "print(np.mean(x))\n",
        "print(np.median(x))"
      ],
      "execution_count": null,
      "outputs": [
        {
          "output_type": "stream",
          "name": "stdout",
          "text": [
            "7.5\n",
            "7.5\n"
          ]
        }
      ]
    },
    {
      "cell_type": "code",
      "metadata": {
        "id": "M4ZX5dr-tOgD"
      },
      "source": [
        "vals = [25, 30, 33, 35, 40, 180]\n",
        "new_vals = []\n",
        "for val in vals:\n",
        "    new_vals.append(val + 32)\n",
        "print(new_vals)"
      ],
      "execution_count": null,
      "outputs": []
    },
    {
      "cell_type": "code",
      "metadata": {
        "colab": {
          "base_uri": "https://localhost:8080/"
        },
        "id": "JEWZnXGqtZGm",
        "outputId": "ee5f1024-765e-4e6e-84f1-f0fa4514c2a8"
      },
      "source": [
        "vals = [25, 30, 33, 35, 40, 180]\n",
        "new_vals = [x+32 for x in vals ]\n",
        "\n",
        "print(new_vals)"
      ],
      "execution_count": 21,
      "outputs": [
        {
          "output_type": "stream",
          "name": "stdout",
          "text": [
            "[57, 62, 65, 67, 72, 212]\n"
          ]
        }
      ]
    },
    {
      "cell_type": "code",
      "metadata": {
        "colab": {
          "base_uri": "https://localhost:8080/"
        },
        "id": "VuxV53W7x05M",
        "outputId": "d51ba3cc-1a08-4bd8-f206-9beeb0da9e08"
      },
      "source": [
        "d = {\n",
        "    'one': 1,\n",
        "    'two': 2,\n",
        "    'three': 3,\n",
        "    'four': 4\n",
        "}\n",
        "d['two']"
      ],
      "execution_count": 22,
      "outputs": [
        {
          "output_type": "execute_result",
          "data": {
            "text/plain": [
              "2"
            ]
          },
          "metadata": {},
          "execution_count": 22
        }
      ]
    },
    {
      "cell_type": "code",
      "metadata": {
        "colab": {
          "base_uri": "https://localhost:8080/"
        },
        "id": "ypaGTpoQyRhv",
        "outputId": "34fa95d0-acd2-4f04-da8a-0eff40487d7e"
      },
      "source": [
        "class Planet:\n",
        "    def __init__(self, name, diameter_km):\n",
        "        self.name = name\n",
        "        self.diameter_km = diameter_km\n",
        "        \n",
        "e = Planet('earth',11)\n",
        "\n",
        "e.name, e.diameter_km"
      ],
      "execution_count": 24,
      "outputs": [
        {
          "output_type": "execute_result",
          "data": {
            "text/plain": [
              "('earth', 11)"
            ]
          },
          "metadata": {},
          "execution_count": 24
        }
      ]
    },
    {
      "cell_type": "code",
      "metadata": {
        "colab": {
          "base_uri": "https://localhost:8080/"
        },
        "id": "uWDLEL0Wyemn",
        "outputId": "ce79c57f-4b18-4eb1-ddc2-f83245e80cc3"
      },
      "source": [
        "with open('hello.txt', 'w') as file:\n",
        "  file.write(\"hello!\")\n",
        "\n",
        "print(file.closed)"
      ],
      "execution_count": 27,
      "outputs": [
        {
          "output_type": "stream",
          "name": "stdout",
          "text": [
            "True\n"
          ]
        }
      ]
    },
    {
      "cell_type": "code",
      "metadata": {
        "colab": {
          "base_uri": "https://localhost:8080/"
        },
        "id": "_TWHNqU9zV_P",
        "outputId": "291b6f5f-5e92-49e7-ef86-c175c005c6ca"
      },
      "source": [
        "book = {\n",
        "    'title': 'The Giver',\n",
        "    'author': 'Lois Lowry',\n",
        "    'rating': 4.13\n",
        "}\n",
        "\n",
        "book['rating']=4.6\n",
        "\n",
        "\n",
        "book['rating']"
      ],
      "execution_count": 28,
      "outputs": [
        {
          "output_type": "execute_result",
          "data": {
            "text/plain": [
              "123"
            ]
          },
          "metadata": {},
          "execution_count": 28
        }
      ]
    },
    {
      "cell_type": "code",
      "metadata": {
        "colab": {
          "base_uri": "https://localhost:8080/",
          "height": 35
        },
        "id": "s1kw1HfMzf8T",
        "outputId": "bfa8421b-4b0c-4ea7-f386-ce3b2e2bad5b"
      },
      "source": [
        "class Color:\n",
        "  def __init__ (self, rgb_value):\n",
        "    self.rgb_value = rgb_value\n",
        "\n",
        "c = Color('#00ff66')\n",
        "\n",
        "c.rgb_value"
      ],
      "execution_count": 29,
      "outputs": [
        {
          "output_type": "execute_result",
          "data": {
            "application/vnd.google.colaboratory.intrinsic+json": {
              "type": "string"
            },
            "text/plain": [
              "'#00ff66'"
            ]
          },
          "metadata": {},
          "execution_count": 29
        }
      ]
    },
    {
      "cell_type": "code",
      "metadata": {
        "colab": {
          "base_uri": "https://localhost:8080/"
        },
        "id": "BYGMjo9n0Nxw",
        "outputId": "174edcde-d8f8-40f1-fa28-3623f49c9f6d"
      },
      "source": [
        "def multiply(a, b):\n",
        "    return a * b\n",
        "\n",
        "x = multiply(3, 4)\n",
        "\n",
        "x"
      ],
      "execution_count": 30,
      "outputs": [
        {
          "output_type": "execute_result",
          "data": {
            "text/plain": [
              "12"
            ]
          },
          "metadata": {},
          "execution_count": 30
        }
      ]
    },
    {
      "cell_type": "code",
      "metadata": {
        "colab": {
          "base_uri": "https://localhost:8080/",
          "height": 35
        },
        "id": "VcEW3TFi0Z-3",
        "outputId": "7707df07-0774-45f6-d293-2bcf24b5d080"
      },
      "source": [
        "book = {\n",
        "    'title': 'The Giver',\n",
        "    'author': 'Lois Lowry',\n",
        "    'rating': 4.13\n",
        "}\n",
        "\n",
        "book['format']='paperback'\n",
        "\n",
        "\n",
        "book['format']"
      ],
      "execution_count": 32,
      "outputs": [
        {
          "output_type": "execute_result",
          "data": {
            "application/vnd.google.colaboratory.intrinsic+json": {
              "type": "string"
            },
            "text/plain": [
              "'paperback'"
            ]
          },
          "metadata": {},
          "execution_count": 32
        }
      ]
    },
    {
      "cell_type": "code",
      "metadata": {
        "colab": {
          "base_uri": "https://localhost:8080/"
        },
        "id": "WhKQ_nBE0zKZ",
        "outputId": "40d8258f-37af-4ef8-e3e2-dc2d950d2a0e"
      },
      "source": [
        "class Building:\n",
        "    def __init__(self, number):\n",
        "      self.number = number\n",
        "\n",
        "b = Building(245)\n",
        "\n",
        "b.number"
      ],
      "execution_count": 33,
      "outputs": [
        {
          "output_type": "execute_result",
          "data": {
            "text/plain": [
              "245"
            ]
          },
          "metadata": {},
          "execution_count": 33
        }
      ]
    },
    {
      "cell_type": "code",
      "metadata": {
        "colab": {
          "base_uri": "https://localhost:8080/"
        },
        "id": "lBc863pe0_0X",
        "outputId": "a4f149f6-1ee6-4d80-d334-07104f6f2a41"
      },
      "source": [
        "s = \"animal-horse\"\n",
        "\n",
        "s.split(\"-\")"
      ],
      "execution_count": 34,
      "outputs": [
        {
          "output_type": "execute_result",
          "data": {
            "text/plain": [
              "['animal', 'horse']"
            ]
          },
          "metadata": {},
          "execution_count": 34
        }
      ]
    },
    {
      "cell_type": "code",
      "metadata": {
        "colab": {
          "base_uri": "https://localhost:8080/"
        },
        "id": "iVbrWOio1LvV",
        "outputId": "ec5cd57d-29e2-46c0-88f3-782f232a4dad"
      },
      "source": [
        "def time_to_seconds(hours,minutes):\n",
        "    print(hours * 60 * 60 + minutes * 60)\n",
        "\n",
        "time_to_seconds(1,50)"
      ],
      "execution_count": 35,
      "outputs": [
        {
          "output_type": "stream",
          "name": "stdout",
          "text": [
            "6600\n"
          ]
        }
      ]
    },
    {
      "cell_type": "code",
      "metadata": {
        "colab": {
          "base_uri": "https://localhost:8080/"
        },
        "id": "wHUma-V61atV",
        "outputId": "bc90a8b9-e148-4f9a-acbb-909fc1b12173"
      },
      "source": [
        "d = {\n",
        "    'apple': 1,\n",
        "    'banana': 2,\n",
        "    'coconut': 3\n",
        "}\n",
        "\n",
        "d['durian'] = 4\n",
        "\n",
        "d"
      ],
      "execution_count": 39,
      "outputs": [
        {
          "output_type": "execute_result",
          "data": {
            "text/plain": [
              "{'apple': 1, 'banana': 2, 'coconut': 3, 'durian': 4}"
            ]
          },
          "metadata": {},
          "execution_count": 39
        }
      ]
    },
    {
      "cell_type": "code",
      "metadata": {
        "colab": {
          "base_uri": "https://localhost:8080/"
        },
        "id": "GyZ4jWOj22iA",
        "outputId": "54d14e78-a25f-425e-8103-00003db1d835"
      },
      "source": [
        "letters = ['a', 'b', 'c']\n",
        "for ii, x in enumerate(letters):\n",
        "    print(ii, \": \", x)"
      ],
      "execution_count": 43,
      "outputs": [
        {
          "output_type": "stream",
          "name": "stdout",
          "text": [
            "0 :  a\n",
            "1 :  b\n",
            "2 :  c\n"
          ]
        }
      ]
    },
    {
      "cell_type": "markdown",
      "metadata": {
        "id": "1V44c6HV490o"
      },
      "source": [
        "**Assessement TWO**\n",
        "\n",
        " \n",
        "\n"
      ]
    },
    {
      "cell_type": "code",
      "metadata": {
        "id": "BYdBdpIx3rTj"
      },
      "source": [
        "for i in \"programming\":\n",
        "  if i == \"a\":\n",
        "    break\n",
        "     \n",
        "  print(i)"
      ],
      "execution_count": null,
      "outputs": []
    },
    {
      "cell_type": "code",
      "metadata": {
        "colab": {
          "base_uri": "https://localhost:8080/",
          "height": 35
        },
        "id": "SC1sGCP64uOn",
        "outputId": "c94a743e-3457-4f7b-b38f-2f0c60978b9f"
      },
      "source": [
        "class Dog:\n",
        "    def __init__(self):\n",
        "        pass\n",
        "    \n",
        "    def bark(self):\n",
        "        return \"bark bark bark bark bark bark...\"\n",
        "\n",
        "d = Dog() \n",
        "d.bark()\n"
      ],
      "execution_count": 49,
      "outputs": [
        {
          "output_type": "execute_result",
          "data": {
            "application/vnd.google.colaboratory.intrinsic+json": {
              "type": "string"
            },
            "text/plain": [
              "'bark bark bark bark bark bark...'"
            ]
          },
          "metadata": {},
          "execution_count": 49
        }
      ]
    },
    {
      "cell_type": "code",
      "metadata": {
        "colab": {
          "base_uri": "https://localhost:8080/",
          "height": 35
        },
        "id": "FaU95Xe_5hjh",
        "outputId": "7bd129f8-7f25-40d5-f940-4d0ae23d036b"
      },
      "source": [
        "class Candy:\n",
        "    flavor = 'sweet'\n",
        "    \n",
        "    def __init__(self, name):\n",
        "        self.name = name\n",
        "        \n",
        "c = Candy('Chocolate')\n",
        "\n",
        "c.name"
      ],
      "execution_count": 52,
      "outputs": [
        {
          "output_type": "execute_result",
          "data": {
            "application/vnd.google.colaboratory.intrinsic+json": {
              "type": "string"
            },
            "text/plain": [
              "'Chocolate'"
            ]
          },
          "metadata": {},
          "execution_count": 52
        }
      ]
    },
    {
      "cell_type": "code",
      "metadata": {
        "colab": {
          "base_uri": "https://localhost:8080/",
          "height": 35
        },
        "id": "B_TZmHK96WMu",
        "outputId": "d740ef0c-1057-4f2f-a6da-7b2e0273e9cc"
      },
      "source": [
        "w = 'python'\n",
        "\n",
        "w_iterator = iter(w)\n",
        "\n",
        "next(w_iterator)"
      ],
      "execution_count": 53,
      "outputs": [
        {
          "output_type": "execute_result",
          "data": {
            "application/vnd.google.colaboratory.intrinsic+json": {
              "type": "string"
            },
            "text/plain": [
              "'p'"
            ]
          },
          "metadata": {},
          "execution_count": 53
        }
      ]
    },
    {
      "cell_type": "code",
      "metadata": {
        "id": "DoMZ3CHq6yqk"
      },
      "source": [
        "'''\n",
        "The function sample has been written using a for loop, as shown below. Using a list comprehension, create a more efficient version of this function.\n",
        "\n",
        "def sample(n):\n",
        "    x = []\n",
        "    for i in range(n):\n",
        "        x.append(random.random())\n",
        "    return x\n",
        "\n",
        "Complete the code to return the output\n",
        "'''\n",
        "import random\n",
        "random.seed(2427)\n",
        "\n",
        "def efficient_sample(n):\n",
        "  x = [random() for i in   ]\n",
        "  return x\n",
        "\n",
        "efficient_sample(20)"
      ],
      "execution_count": null,
      "outputs": []
    },
    {
      "cell_type": "code",
      "metadata": {
        "colab": {
          "base_uri": "https://localhost:8080/",
          "height": 35
        },
        "id": "L8tpvIs47URe",
        "outputId": "a0a9b140-8864-43a7-9825-8baf994d3c8b"
      },
      "source": [
        "def fun_docs():\n",
        "    \"\"\"I know how to interact with the docstrings of a function.\"\"\"\n",
        "    \n",
        "    return None\n",
        "\n",
        "fun_docs.__doc__\n"
      ],
      "execution_count": 57,
      "outputs": [
        {
          "output_type": "execute_result",
          "data": {
            "application/vnd.google.colaboratory.intrinsic+json": {
              "type": "string"
            },
            "text/plain": [
              "'I know how to interact with the docstrings of a function.'"
            ]
          },
          "metadata": {},
          "execution_count": 57
        }
      ]
    },
    {
      "cell_type": "code",
      "metadata": {
        "colab": {
          "base_uri": "https://localhost:8080/"
        },
        "id": "cK6dXEmK7yUy",
        "outputId": "5f9af1dc-b665-4c2e-a512-425ca759d9a0"
      },
      "source": [
        "def add_many(*args):\n",
        "    s = 0\n",
        "    for n in args:\n",
        "        s += n\n",
        "    print(s)\n",
        "\n",
        "add_many(100, 50, 3)"
      ],
      "execution_count": 63,
      "outputs": [
        {
          "output_type": "stream",
          "name": "stdout",
          "text": [
            "153\n"
          ]
        }
      ]
    },
    {
      "cell_type": "code",
      "metadata": {
        "colab": {
          "base_uri": "https://localhost:8080/"
        },
        "id": "QvziR4k180dQ",
        "outputId": "caef622c-4e94-4e12-ea26-2d3e23faf608"
      },
      "source": [
        "def to_int(x):\n",
        "    try:\n",
        "        return int(x)\n",
        "    \n",
        "    except ValueError:\n",
        "        print(\"that value can't be turned into an integer\")\n",
        "\n",
        "to_int(\"\")"
      ],
      "execution_count": 68,
      "outputs": [
        {
          "output_type": "stream",
          "name": "stdout",
          "text": [
            "that value can't be turned into an integer\n"
          ]
        }
      ]
    },
    {
      "cell_type": "code",
      "metadata": {
        "colab": {
          "base_uri": "https://localhost:8080/",
          "height": 35
        },
        "id": "_fEZrqDA9kYn",
        "outputId": "6f73500d-23df-44e6-8ae9-ed3a361c451d"
      },
      "source": [
        "class Dog:    \n",
        "    def woof(self):\n",
        "        return 'woof!'\n",
        "\n",
        "t = Dog()\n",
        "t.woof()\n"
      ],
      "execution_count": 69,
      "outputs": [
        {
          "output_type": "execute_result",
          "data": {
            "application/vnd.google.colaboratory.intrinsic+json": {
              "type": "string"
            },
            "text/plain": [
              "'woof!'"
            ]
          },
          "metadata": {},
          "execution_count": 69
        }
      ]
    },
    {
      "cell_type": "code",
      "metadata": {
        "colab": {
          "base_uri": "https://localhost:8080/",
          "height": 231
        },
        "id": "3L1ou3GE9m6l",
        "outputId": "aae785e8-f9b0-4810-afb1-bf4558eb8a7b"
      },
      "source": [
        "x = (1, 2, 3)\n",
        "def Convert(tup, di):\n",
        "    for a, b in tup:\n",
        "        di.setdefault(a, []).append(b)\n",
        "    return di\n",
        "s = Convert(x, dictionary)\n",
        "\n",
        "s"
      ],
      "execution_count": 75,
      "outputs": [
        {
          "output_type": "error",
          "ename": "NameError",
          "evalue": "ignored",
          "traceback": [
            "\u001b[0;31m---------------------------------------------------------------------------\u001b[0m",
            "\u001b[0;31mNameError\u001b[0m                                 Traceback (most recent call last)",
            "\u001b[0;32m<ipython-input-75-f79e16555c65>\u001b[0m in \u001b[0;36m<module>\u001b[0;34m()\u001b[0m\n\u001b[1;32m      4\u001b[0m         \u001b[0mdi\u001b[0m\u001b[0;34m.\u001b[0m\u001b[0msetdefault\u001b[0m\u001b[0;34m(\u001b[0m\u001b[0ma\u001b[0m\u001b[0;34m,\u001b[0m \u001b[0;34m[\u001b[0m\u001b[0;34m]\u001b[0m\u001b[0;34m)\u001b[0m\u001b[0;34m.\u001b[0m\u001b[0mappend\u001b[0m\u001b[0;34m(\u001b[0m\u001b[0mb\u001b[0m\u001b[0;34m)\u001b[0m\u001b[0;34m\u001b[0m\u001b[0;34m\u001b[0m\u001b[0m\n\u001b[1;32m      5\u001b[0m     \u001b[0;32mreturn\u001b[0m \u001b[0mdi\u001b[0m\u001b[0;34m\u001b[0m\u001b[0;34m\u001b[0m\u001b[0m\n\u001b[0;32m----> 6\u001b[0;31m \u001b[0ms\u001b[0m \u001b[0;34m=\u001b[0m \u001b[0mConvert\u001b[0m\u001b[0;34m(\u001b[0m\u001b[0mx\u001b[0m\u001b[0;34m,\u001b[0m \u001b[0mdictionary\u001b[0m\u001b[0;34m)\u001b[0m\u001b[0;34m\u001b[0m\u001b[0;34m\u001b[0m\u001b[0m\n\u001b[0m\u001b[1;32m      7\u001b[0m \u001b[0;34m\u001b[0m\u001b[0m\n\u001b[1;32m      8\u001b[0m \u001b[0ms\u001b[0m\u001b[0;34m\u001b[0m\u001b[0;34m\u001b[0m\u001b[0m\n",
            "\u001b[0;31mNameError\u001b[0m: name 'dictionary' is not defined"
          ]
        }
      ]
    }
  ]
}