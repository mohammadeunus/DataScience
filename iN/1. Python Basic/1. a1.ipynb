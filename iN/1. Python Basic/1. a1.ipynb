{
 "cells": [
  {
   "cell_type": "markdown",
   "metadata": {},
   "source": [
    "The questions: \n",
    "1. In the below elements which of them are values or an expression? eg:- values can be\n",
    "integer or string and expressions will be mathematical operators.\\n\n",
    "*\n",
    "&#39;hello&#39;\n",
    "87.8\n",
    "-\n",
    "/\n",
    "+\n",
    "6\n",
    "\n",
    "2. What is the difference between string and variable?\n",
    "\n",
    "3. Describe three different data types.\n",
    "\n",
    "4. What is an expression made up of? What do all expressions do?\n",
    "5. This assignment statements, like spam = 10. What is the difference between an\n",
    "expression and a statement?\n",
    "6. After running the following code, what does the variable bacon contain?\n",
    "\n",
    "bacon = 22\n",
    "\n",
    "bacon + 1\n",
    "\n",
    "7. What should the values of the following two terms be?\n",
    "\n",
    "'spam' + 'spamspam' \n",
    "\n",
    "'spam' * 3\n",
    "\n",
    "8. Why is eggs a valid variable name while 100 is invalid?\n",
    "\n",
    "9. What three functions can be used to get the integer, floating-point number, or string\n",
    "version of a value?\n",
    "10. Why does this expression cause an error? How can you fix it?\n",
    "&#39;I have eaten &#39; + 99 + &#39; burritos.&#39;"
   ]
  },
  {
   "cell_type": "markdown",
   "metadata": {},
   "source": [
    "Answere to the questions:\n",
    "\n",
    "1. value: 'hello', 6 , 87.8; expression: * , - , / , \n",
    "2. A variable is a name we assign to a space in your computer's memory and It can hold anything from strings to numbers.\n",
    "3. integer(eg i=5), float(eg f=5.43), string(s=\"ineuron\")\n",
    "4. Using expressions, we can combine variables, operations, and values to yield results. These operators include +, -, /, and %.\n",
    "5.  An expression consists of an operator and an operand to evaluates a value, \n",
    "    A statement represents an action or command.(e.g., print statement, assignment statement)\n",
    "\n",
    "6. 23\n",
    "7. both two statement will give the following output:  'spamspamspam'\n",
    "8. 100 is a numeric value and variable name cannot be a number.\n",
    "9. int(), float(), and str()\n",
    "10. if a operation consists any string value then the program will expect every variable in that operation to be string. but if we pass other that string variable then it will pass error. to solve this we have to change the datatype of that into string like the following code"
   ]
  },
  {
   "cell_type": "code",
   "execution_count": 10,
   "metadata": {},
   "outputs": [
    {
     "data": {
      "text/plain": [
       "'I have eaten 99 burritos.'"
      ]
     },
     "execution_count": 10,
     "metadata": {},
     "output_type": "execute_result"
    }
   ],
   "source": [
    " 'I have eaten ' + str(99) + ' burritos.'"
   ]
  }
 ],
 "metadata": {
  "kernelspec": {
   "display_name": "Python 3",
   "language": "python",
   "name": "python3"
  },
  "language_info": {
   "codemirror_mode": {
    "name": "ipython",
    "version": 3
   },
   "file_extension": ".py",
   "mimetype": "text/x-python",
   "name": "python",
   "nbconvert_exporter": "python",
   "pygments_lexer": "ipython3",
   "version": "3.7.3"
  }
 },
 "nbformat": 4,
 "nbformat_minor": 2
}
